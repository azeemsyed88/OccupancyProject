{
 "cells": [
  {
   "cell_type": "code",
   "execution_count": 131,
   "metadata": {},
   "outputs": [
    {
     "data": {
      "text/html": [
       "\n",
       "        <div>\n",
       "            <p><b>SparkContext</b></p>\n",
       "\n",
       "            <p><a href=\"http://DESKTOP-6OK1782:4041\">Spark UI</a></p>\n",
       "\n",
       "            <dl>\n",
       "              <dt>Version</dt>\n",
       "                <dd><code>v2.4.1</code></dd>\n",
       "              <dt>Master</dt>\n",
       "                <dd><code>local</code></dd>\n",
       "              <dt>AppName</dt>\n",
       "                <dd><code>OccupancyProject</code></dd>\n",
       "            </dl>\n",
       "        </div>\n",
       "        "
      ],
      "text/plain": [
       "<SparkContext master=local appName=OccupancyProject>"
      ]
     },
     "execution_count": 131,
     "metadata": {},
     "output_type": "execute_result"
    }
   ],
   "source": [
    "import pyspark\n",
    "from pyspark import SparkConf, SparkContext\n",
    "from pyspark.sql.types import *\n",
    "from pyspark.sql import Row\n",
    "from pyspark.sql import HiveContext\n",
    "from pyspark.sql import SQLContext\n",
    "import pyspark.sql.functions as func\n",
    "conf = SparkConf().setMaster(\"local\").setAppName(\"OccupancyProject\")\n",
    "#sc = SparkContext(conf = conf)\n",
    "#sqlContext = SQLContext(sc)\n",
    "sqlContext = pyspark.SQLContext(sc)\n",
    "sc"
   ]
  },
  {
   "cell_type": "code",
   "execution_count": 167,
   "metadata": {},
   "outputs": [],
   "source": [
    "OccupancyData_2 = sc.textFile(\"C:/Backup/BAIS/Big Data/Project/OccupancyProject-master/OccupancyData_2.csv\")\n",
    "OccupancyData_1 = sc.textFile(\"C:/Users/engga/Downloads/OccupancyData_1.txt\")\n",
    "OccupancyTraining = sqlContext.read.json(\"C:/Backup/BAIS/Big Data/Project/OccupancyProject-master/OccupancyData_Train.json\", multiLine=True)"
   ]
  },
  {
   "cell_type": "code",
   "execution_count": 133,
   "metadata": {},
   "outputs": [
    {
     "data": {
      "text/plain": [
       "['\"date\",\"Temperature\",\"Humidity\",\"Light\",\"CO2\",\"HumidityRatio\",\"Occupancy\"',\n",
       " '140,\"2015-02-02 14:19:00\",23.7,26.272,585.2,749.2,0.00476416302416414,1',\n",
       " '\"141\",\"2015-02-02 14:19:59\",23.718,26.29,578.4,760.4,0.00477266099212519,1',\n",
       " '\"142\",\"2015-02-02 14:21:00\",23.73,26.23,572.666666666667,769.666666666667,0.00476515255246541,1',\n",
       " '\"143\",\"2015-02-02 14:22:00\",23.7225,26.125,493.75,774.75,0.00474377335599685,1']"
      ]
     },
     "execution_count": 133,
     "metadata": {},
     "output_type": "execute_result"
    }
   ],
   "source": [
    "OccupancyData_1.take(5)"
   ]
  },
  {
   "cell_type": "code",
   "execution_count": 134,
   "metadata": {},
   "outputs": [
    {
     "data": {
      "text/plain": [
       "['date,Temperature,Humidity,Light,CO2,HumidityRatio,Occupancy,Column1',\n",
       " '1,2/11/2015 14:48,21.76,31.13333333,437.3333333,1029.666667,0.005021011,1',\n",
       " '2,2/11/2015 14:49,21.79,31,437.3333333,1000,0.005008581,1',\n",
       " '3,2/11/2015 14:50,21.7675,31.1225,434,1003.75,0.005021569,1',\n",
       " '4,2/11/2015 14:51,21.7675,31.1225,439,1009.5,0.005021569,1']"
      ]
     },
     "execution_count": 134,
     "metadata": {},
     "output_type": "execute_result"
    }
   ],
   "source": [
    "OccupancyData_2.take(5)"
   ]
  },
  {
   "cell_type": "code",
   "execution_count": 135,
   "metadata": {},
   "outputs": [],
   "source": [
    "header1=OccupancyData_1.first()\n",
    "OccupancyData_1=OccupancyData_1.filter(lambda line: line!=header1)"
   ]
  },
  {
   "cell_type": "code",
   "execution_count": 136,
   "metadata": {},
   "outputs": [],
   "source": [
    "header2=OccupancyData_2.first()\n",
    "OccupancyData_2=OccupancyData_2.filter(lambda line: line!=header2)"
   ]
  },
  {
   "cell_type": "code",
   "execution_count": 137,
   "metadata": {},
   "outputs": [],
   "source": [
    "Occupancy_DF1 = OccupancyData_1.map(lambda x: x.split(\",\")).map(lambda x: (float(x[0].replace('\"','')), float(x[2]), float(x[3]), float(x[4]), float(x[5]), float(x[6]), float(x[7]))).toDF()"
   ]
  },
  {
   "cell_type": "code",
   "execution_count": 138,
   "metadata": {},
   "outputs": [],
   "source": [
    "Occupancy_DF2 = OccupancyData_2.map(lambda x: x.split(\",\")).map(lambda x: (float(x[0].replace('\"','')), float(x[2]), float(x[3]), float(x[4]), float(x[5]), float(x[6]), float(x[7]))).toDF()"
   ]
  },
  {
   "cell_type": "code",
   "execution_count": 139,
   "metadata": {},
   "outputs": [
    {
     "name": "stdout",
     "output_type": "stream",
     "text": [
      "root\n",
      " |-- _1: double (nullable = true)\n",
      " |-- _2: double (nullable = true)\n",
      " |-- _3: double (nullable = true)\n",
      " |-- _4: double (nullable = true)\n",
      " |-- _5: double (nullable = true)\n",
      " |-- _6: double (nullable = true)\n",
      " |-- _7: double (nullable = true)\n",
      "\n"
     ]
    }
   ],
   "source": [
    "Occupancy_DF1.printSchema()"
   ]
  },
  {
   "cell_type": "code",
   "execution_count": 140,
   "metadata": {},
   "outputs": [
    {
     "name": "stdout",
     "output_type": "stream",
     "text": [
      "root\n",
      " |-- _1: double (nullable = true)\n",
      " |-- _2: double (nullable = true)\n",
      " |-- _3: double (nullable = true)\n",
      " |-- _4: double (nullable = true)\n",
      " |-- _5: double (nullable = true)\n",
      " |-- _6: double (nullable = true)\n",
      " |-- _7: double (nullable = true)\n",
      "\n"
     ]
    }
   ],
   "source": [
    "Occupancy_DF2.printSchema()"
   ]
  },
  {
   "cell_type": "code",
   "execution_count": 141,
   "metadata": {},
   "outputs": [],
   "source": [
    "Occupancy_DF1 = Occupancy_DF1.selectExpr(\"_1 as ID\", \"_2 as Temperature\",\"_3 as Humidity\", \"_4 as Light\", \"_5 as CO2\",\"_6 as HumidityRatio\",\"_7 as Occupancy\")"
   ]
  },
  {
   "cell_type": "code",
   "execution_count": 142,
   "metadata": {},
   "outputs": [],
   "source": [
    "Occupancy_DF2 = Occupancy_DF2.selectExpr(\"_1 as ID\", \"_2 as Temperature\",\"_3 as Humidity\", \"_4 as Light\", \"_5 as CO2\",\"_6 as HumidityRatio\",\"_7 as Occupancy\")"
   ]
  },
  {
   "cell_type": "code",
   "execution_count": 143,
   "metadata": {},
   "outputs": [
    {
     "name": "stdout",
     "output_type": "stream",
     "text": [
      "root\n",
      " |-- ID: double (nullable = true)\n",
      " |-- Temperature: double (nullable = true)\n",
      " |-- Humidity: double (nullable = true)\n",
      " |-- Light: double (nullable = true)\n",
      " |-- CO2: double (nullable = true)\n",
      " |-- HumidityRatio: double (nullable = true)\n",
      " |-- Occupancy: double (nullable = true)\n",
      "\n"
     ]
    }
   ],
   "source": [
    "Occupancy_DF1.printSchema()"
   ]
  },
  {
   "cell_type": "code",
   "execution_count": 144,
   "metadata": {},
   "outputs": [
    {
     "name": "stdout",
     "output_type": "stream",
     "text": [
      "root\n",
      " |-- ID: double (nullable = true)\n",
      " |-- Temperature: double (nullable = true)\n",
      " |-- Humidity: double (nullable = true)\n",
      " |-- Light: double (nullable = true)\n",
      " |-- CO2: double (nullable = true)\n",
      " |-- HumidityRatio: double (nullable = true)\n",
      " |-- Occupancy: double (nullable = true)\n",
      "\n"
     ]
    }
   ],
   "source": [
    "Occupancy_DF2.printSchema()"
   ]
  },
  {
   "cell_type": "code",
   "execution_count": 145,
   "metadata": {},
   "outputs": [
    {
     "name": "stdout",
     "output_type": "stream",
     "text": [
      "+-----+-----------+--------+----------------+----------------+-------------------+---------+\n",
      "|   ID|Temperature|Humidity|           Light|             CO2|      HumidityRatio|Occupancy|\n",
      "+-----+-----------+--------+----------------+----------------+-------------------+---------+\n",
      "|140.0|       23.7|  26.272|           585.2|           749.2|0.00476416302416414|      1.0|\n",
      "|141.0|     23.718|   26.29|           578.4|           760.4|0.00477266099212519|      1.0|\n",
      "|142.0|      23.73|   26.23|572.666666666667|769.666666666667|0.00476515255246541|      1.0|\n",
      "+-----+-----------+--------+----------------+----------------+-------------------+---------+\n",
      "only showing top 3 rows\n",
      "\n"
     ]
    }
   ],
   "source": [
    "Occupancy_DF1.show(3)"
   ]
  },
  {
   "cell_type": "code",
   "execution_count": 146,
   "metadata": {},
   "outputs": [
    {
     "name": "stdout",
     "output_type": "stream",
     "text": [
      "+---+-----------+-----------+-----------+-----------+-------------+---------+\n",
      "| ID|Temperature|   Humidity|      Light|        CO2|HumidityRatio|Occupancy|\n",
      "+---+-----------+-----------+-----------+-----------+-------------+---------+\n",
      "|1.0|      21.76|31.13333333|437.3333333|1029.666667|  0.005021011|      1.0|\n",
      "|2.0|      21.79|       31.0|437.3333333|     1000.0|  0.005008581|      1.0|\n",
      "|3.0|    21.7675|    31.1225|      434.0|    1003.75|  0.005021569|      1.0|\n",
      "+---+-----------+-----------+-----------+-----------+-------------+---------+\n",
      "only showing top 3 rows\n",
      "\n"
     ]
    }
   ],
   "source": [
    "Occupancy_DF2.show(3)"
   ]
  },
  {
   "cell_type": "code",
   "execution_count": 147,
   "metadata": {},
   "outputs": [
    {
     "name": "stdout",
     "output_type": "stream",
     "text": [
      "+------+--------+-------------------+---+-----+---------+-----------+-------------------+\n",
      "|   CO2|Humidity|      HumidityRatio| ID|Light|Occupancy|Temperature|               date|\n",
      "+------+--------+-------------------+---+-----+---------+-----------+-------------------+\n",
      "|721.25|  27.272|0.00479298817650529|  1|426.0|        1|      23.18|2015-02-04 17:51:00|\n",
      "| 714.0| 27.2675|0.00478344094931065|  2|429.5|        1|      23.15|2015-02-04 17:51:59|\n",
      "| 713.5|  27.245|0.00477946352442199|  3|426.0|        1|      23.15|2015-02-04 17:53:00|\n",
      "+------+--------+-------------------+---+-----+---------+-----------+-------------------+\n",
      "only showing top 3 rows\n",
      "\n"
     ]
    }
   ],
   "source": [
    "OccupancyTraining.show(3)"
   ]
  },
  {
   "cell_type": "code",
   "execution_count": 148,
   "metadata": {},
   "outputs": [],
   "source": [
    "OccupancyTraining=OccupancyTraining.dropna()\n",
    "Occupancy_DF1=Occupancy_DF1.dropna()\n",
    "Occupancy_DF2=Occupancy_DF2.dropna()\n",
    "OccupancyTraining=OccupancyTraining.drop(OccupancyTraining.date)"
   ]
  },
  {
   "cell_type": "code",
   "execution_count": 149,
   "metadata": {},
   "outputs": [],
   "source": [
    "OccupancyTraining=OccupancyTraining.withColumn(\"Light\", func.round(OccupancyTraining[\"Light\"], 3))\n",
    "Occupancy_DF1=Occupancy_DF1.withColumn(\"Light\", func.round(Occupancy_DF1[\"Light\"], 3))\n",
    "Occupancy_DF2=Occupancy_DF2.withColumn(\"Light\", func.round(Occupancy_DF2[\"Light\"], 3))"
   ]
  },
  {
   "cell_type": "code",
   "execution_count": 150,
   "metadata": {},
   "outputs": [],
   "source": [
    "OccupancyTraining=OccupancyTraining.withColumn(\"CO2\", func.round(OccupancyTraining[\"CO2\"], 3))\n",
    "Occupancy_DF1=Occupancy_DF1.withColumn(\"CO2\", func.round(Occupancy_DF1[\"CO2\"], 3))\n",
    "Occupancy_DF2=Occupancy_DF2.withColumn(\"CO2\", func.round(Occupancy_DF2[\"CO2\"], 3))"
   ]
  },
  {
   "cell_type": "code",
   "execution_count": 151,
   "metadata": {},
   "outputs": [
    {
     "data": {
      "text/html": [
       "<div>\n",
       "<style scoped>\n",
       "    .dataframe tbody tr th:only-of-type {\n",
       "        vertical-align: middle;\n",
       "    }\n",
       "\n",
       "    .dataframe tbody tr th {\n",
       "        vertical-align: top;\n",
       "    }\n",
       "\n",
       "    .dataframe thead th {\n",
       "        text-align: right;\n",
       "    }\n",
       "</style>\n",
       "<table border=\"1\" class=\"dataframe\">\n",
       "  <thead>\n",
       "    <tr style=\"text-align: right;\">\n",
       "      <th></th>\n",
       "      <th>0</th>\n",
       "      <th>1</th>\n",
       "      <th>2</th>\n",
       "      <th>3</th>\n",
       "      <th>4</th>\n",
       "    </tr>\n",
       "  </thead>\n",
       "  <tbody>\n",
       "    <tr>\n",
       "      <th>summary</th>\n",
       "      <td>count</td>\n",
       "      <td>mean</td>\n",
       "      <td>stddev</td>\n",
       "      <td>min</td>\n",
       "      <td>max</td>\n",
       "    </tr>\n",
       "    <tr>\n",
       "      <th>CO2</th>\n",
       "      <td>8143</td>\n",
       "      <td>606.5462424167989</td>\n",
       "      <td>314.3208743972201</td>\n",
       "      <td>412.75</td>\n",
       "      <td>2028.5</td>\n",
       "    </tr>\n",
       "    <tr>\n",
       "      <th>Humidity</th>\n",
       "      <td>8143</td>\n",
       "      <td>25.731507286422527</td>\n",
       "      <td>5.531210999582105</td>\n",
       "      <td>16.745</td>\n",
       "      <td>39.1175</td>\n",
       "    </tr>\n",
       "    <tr>\n",
       "      <th>HumidityRatio</th>\n",
       "      <td>8143</td>\n",
       "      <td>0.0038625066783203907</td>\n",
       "      <td>8.523312991431639E-4</td>\n",
       "      <td>0.00267412691390407</td>\n",
       "      <td>0.00647601323671025</td>\n",
       "    </tr>\n",
       "    <tr>\n",
       "      <th>ID</th>\n",
       "      <td>8143</td>\n",
       "      <td>4072.0</td>\n",
       "      <td>2350.825954141792</td>\n",
       "      <td>1</td>\n",
       "      <td>8143</td>\n",
       "    </tr>\n",
       "    <tr>\n",
       "      <th>Light</th>\n",
       "      <td>8143</td>\n",
       "      <td>119.51937308117397</td>\n",
       "      <td>194.75580460425596</td>\n",
       "      <td>0.0</td>\n",
       "      <td>1546.333</td>\n",
       "    </tr>\n",
       "    <tr>\n",
       "      <th>Occupancy</th>\n",
       "      <td>8143</td>\n",
       "      <td>0.2123296082524868</td>\n",
       "      <td>0.40898201283831825</td>\n",
       "      <td>0</td>\n",
       "      <td>1</td>\n",
       "    </tr>\n",
       "    <tr>\n",
       "      <th>Temperature</th>\n",
       "      <td>8143</td>\n",
       "      <td>20.61908364034621</td>\n",
       "      <td>1.0169164411058336</td>\n",
       "      <td>19.0</td>\n",
       "      <td>23.18</td>\n",
       "    </tr>\n",
       "  </tbody>\n",
       "</table>\n",
       "</div>"
      ],
      "text/plain": [
       "                   0                      1                     2  \\\n",
       "summary        count                   mean                stddev   \n",
       "CO2             8143      606.5462424167989     314.3208743972201   \n",
       "Humidity        8143     25.731507286422527     5.531210999582105   \n",
       "HumidityRatio   8143  0.0038625066783203907  8.523312991431639E-4   \n",
       "ID              8143                 4072.0     2350.825954141792   \n",
       "Light           8143     119.51937308117397    194.75580460425596   \n",
       "Occupancy       8143     0.2123296082524868   0.40898201283831825   \n",
       "Temperature     8143      20.61908364034621    1.0169164411058336   \n",
       "\n",
       "                                 3                    4  \n",
       "summary                        min                  max  \n",
       "CO2                         412.75               2028.5  \n",
       "Humidity                    16.745              39.1175  \n",
       "HumidityRatio  0.00267412691390407  0.00647601323671025  \n",
       "ID                               1                 8143  \n",
       "Light                          0.0             1546.333  \n",
       "Occupancy                        0                    1  \n",
       "Temperature                   19.0                23.18  "
      ]
     },
     "execution_count": 151,
     "metadata": {},
     "output_type": "execute_result"
    }
   ],
   "source": [
    "OccupancyTraining.describe().toPandas().transpose()"
   ]
  },
  {
   "cell_type": "code",
   "execution_count": 152,
   "metadata": {},
   "outputs": [
    {
     "data": {
      "text/html": [
       "<div>\n",
       "<style scoped>\n",
       "    .dataframe tbody tr th:only-of-type {\n",
       "        vertical-align: middle;\n",
       "    }\n",
       "\n",
       "    .dataframe tbody tr th {\n",
       "        vertical-align: top;\n",
       "    }\n",
       "\n",
       "    .dataframe thead th {\n",
       "        text-align: right;\n",
       "    }\n",
       "</style>\n",
       "<table border=\"1\" class=\"dataframe\">\n",
       "  <thead>\n",
       "    <tr style=\"text-align: right;\">\n",
       "      <th></th>\n",
       "      <th>0</th>\n",
       "      <th>1</th>\n",
       "      <th>2</th>\n",
       "      <th>3</th>\n",
       "      <th>4</th>\n",
       "    </tr>\n",
       "  </thead>\n",
       "  <tbody>\n",
       "    <tr>\n",
       "      <th>summary</th>\n",
       "      <td>count</td>\n",
       "      <td>mean</td>\n",
       "      <td>stddev</td>\n",
       "      <td>min</td>\n",
       "      <td>max</td>\n",
       "    </tr>\n",
       "    <tr>\n",
       "      <th>ID</th>\n",
       "      <td>2665</td>\n",
       "      <td>1472.0</td>\n",
       "      <td>769.4635577249039</td>\n",
       "      <td>140.0</td>\n",
       "      <td>2804.0</td>\n",
       "    </tr>\n",
       "    <tr>\n",
       "      <th>Temperature</th>\n",
       "      <td>2665</td>\n",
       "      <td>21.43387628875156</td>\n",
       "      <td>1.0280241758910023</td>\n",
       "      <td>20.2</td>\n",
       "      <td>24.4083333333333</td>\n",
       "    </tr>\n",
       "    <tr>\n",
       "      <th>Humidity</th>\n",
       "      <td>2665</td>\n",
       "      <td>25.353936799785547</td>\n",
       "      <td>2.436842325144458</td>\n",
       "      <td>22.1</td>\n",
       "      <td>31.4725</td>\n",
       "    </tr>\n",
       "    <tr>\n",
       "      <th>Light</th>\n",
       "      <td>2665</td>\n",
       "      <td>193.22755609756084</td>\n",
       "      <td>250.21090652091797</td>\n",
       "      <td>0.0</td>\n",
       "      <td>1697.25</td>\n",
       "    </tr>\n",
       "    <tr>\n",
       "      <th>CO2</th>\n",
       "      <td>2665</td>\n",
       "      <td>717.9064679174498</td>\n",
       "      <td>292.681718646222</td>\n",
       "      <td>427.5</td>\n",
       "      <td>1402.25</td>\n",
       "    </tr>\n",
       "    <tr>\n",
       "      <th>HumidityRatio</th>\n",
       "      <td>2665</td>\n",
       "      <td>0.004027010287333552</td>\n",
       "      <td>6.105726883437672E-4</td>\n",
       "      <td>0.00330331447223472</td>\n",
       "      <td>0.00537775883971339</td>\n",
       "    </tr>\n",
       "    <tr>\n",
       "      <th>Occupancy</th>\n",
       "      <td>2665</td>\n",
       "      <td>0.3647279549718574</td>\n",
       "      <td>0.48144412849428336</td>\n",
       "      <td>0.0</td>\n",
       "      <td>1.0</td>\n",
       "    </tr>\n",
       "  </tbody>\n",
       "</table>\n",
       "</div>"
      ],
      "text/plain": [
       "                   0                     1                     2  \\\n",
       "summary        count                  mean                stddev   \n",
       "ID              2665                1472.0     769.4635577249039   \n",
       "Temperature     2665     21.43387628875156    1.0280241758910023   \n",
       "Humidity        2665    25.353936799785547     2.436842325144458   \n",
       "Light           2665    193.22755609756084    250.21090652091797   \n",
       "CO2             2665     717.9064679174498      292.681718646222   \n",
       "HumidityRatio   2665  0.004027010287333552  6.105726883437672E-4   \n",
       "Occupancy       2665    0.3647279549718574   0.48144412849428336   \n",
       "\n",
       "                                 3                    4  \n",
       "summary                        min                  max  \n",
       "ID                           140.0               2804.0  \n",
       "Temperature                   20.2     24.4083333333333  \n",
       "Humidity                      22.1              31.4725  \n",
       "Light                          0.0              1697.25  \n",
       "CO2                          427.5              1402.25  \n",
       "HumidityRatio  0.00330331447223472  0.00537775883971339  \n",
       "Occupancy                      0.0                  1.0  "
      ]
     },
     "execution_count": 152,
     "metadata": {},
     "output_type": "execute_result"
    }
   ],
   "source": [
    "Occupancy_DF1.describe().toPandas().transpose()"
   ]
  },
  {
   "cell_type": "code",
   "execution_count": 153,
   "metadata": {},
   "outputs": [
    {
     "data": {
      "text/html": [
       "<div>\n",
       "<style scoped>\n",
       "    .dataframe tbody tr th:only-of-type {\n",
       "        vertical-align: middle;\n",
       "    }\n",
       "\n",
       "    .dataframe tbody tr th {\n",
       "        vertical-align: top;\n",
       "    }\n",
       "\n",
       "    .dataframe thead th {\n",
       "        text-align: right;\n",
       "    }\n",
       "</style>\n",
       "<table border=\"1\" class=\"dataframe\">\n",
       "  <thead>\n",
       "    <tr style=\"text-align: right;\">\n",
       "      <th></th>\n",
       "      <th>0</th>\n",
       "      <th>1</th>\n",
       "      <th>2</th>\n",
       "      <th>3</th>\n",
       "      <th>4</th>\n",
       "    </tr>\n",
       "  </thead>\n",
       "  <tbody>\n",
       "    <tr>\n",
       "      <th>summary</th>\n",
       "      <td>count</td>\n",
       "      <td>mean</td>\n",
       "      <td>stddev</td>\n",
       "      <td>min</td>\n",
       "      <td>max</td>\n",
       "    </tr>\n",
       "    <tr>\n",
       "      <th>ID</th>\n",
       "      <td>9752</td>\n",
       "      <td>4876.5</td>\n",
       "      <td>2815.304246435898</td>\n",
       "      <td>1.0</td>\n",
       "      <td>9752.0</td>\n",
       "    </tr>\n",
       "    <tr>\n",
       "      <th>Temperature</th>\n",
       "      <td>9752</td>\n",
       "      <td>21.001768440662737</td>\n",
       "      <td>1.0206932150211998</td>\n",
       "      <td>19.5</td>\n",
       "      <td>24.39</td>\n",
       "    </tr>\n",
       "    <tr>\n",
       "      <th>Humidity</th>\n",
       "      <td>9752</td>\n",
       "      <td>29.891910206470865</td>\n",
       "      <td>3.9528438069120786</td>\n",
       "      <td>21.865</td>\n",
       "      <td>39.5</td>\n",
       "    </tr>\n",
       "    <tr>\n",
       "      <th>Light</th>\n",
       "      <td>9752</td>\n",
       "      <td>123.06792893765379</td>\n",
       "      <td>208.22127486443952</td>\n",
       "      <td>0.0</td>\n",
       "      <td>1581.0</td>\n",
       "    </tr>\n",
       "    <tr>\n",
       "      <th>CO2</th>\n",
       "      <td>9752</td>\n",
       "      <td>753.2248303937658</td>\n",
       "      <td>297.0961141142924</td>\n",
       "      <td>484.667</td>\n",
       "      <td>2076.5</td>\n",
       "    </tr>\n",
       "    <tr>\n",
       "      <th>HumidityRatio</th>\n",
       "      <td>9752</td>\n",
       "      <td>0.004588778038863832</td>\n",
       "      <td>5.309846212950924E-4</td>\n",
       "      <td>0.003274764</td>\n",
       "      <td>0.005768608</td>\n",
       "    </tr>\n",
       "    <tr>\n",
       "      <th>Occupancy</th>\n",
       "      <td>9752</td>\n",
       "      <td>0.21011074651353567</td>\n",
       "      <td>0.40740795394635093</td>\n",
       "      <td>0.0</td>\n",
       "      <td>1.0</td>\n",
       "    </tr>\n",
       "  </tbody>\n",
       "</table>\n",
       "</div>"
      ],
      "text/plain": [
       "                   0                     1                     2            3  \\\n",
       "summary        count                  mean                stddev          min   \n",
       "ID              9752                4876.5     2815.304246435898          1.0   \n",
       "Temperature     9752    21.001768440662737    1.0206932150211998         19.5   \n",
       "Humidity        9752    29.891910206470865    3.9528438069120786       21.865   \n",
       "Light           9752    123.06792893765379    208.22127486443952          0.0   \n",
       "CO2             9752     753.2248303937658     297.0961141142924      484.667   \n",
       "HumidityRatio   9752  0.004588778038863832  5.309846212950924E-4  0.003274764   \n",
       "Occupancy       9752   0.21011074651353567   0.40740795394635093          0.0   \n",
       "\n",
       "                         4  \n",
       "summary                max  \n",
       "ID                  9752.0  \n",
       "Temperature          24.39  \n",
       "Humidity              39.5  \n",
       "Light               1581.0  \n",
       "CO2                 2076.5  \n",
       "HumidityRatio  0.005768608  \n",
       "Occupancy              1.0  "
      ]
     },
     "execution_count": 153,
     "metadata": {},
     "output_type": "execute_result"
    }
   ],
   "source": [
    "Occupancy_DF2.describe().toPandas().transpose()"
   ]
  },
  {
   "cell_type": "code",
   "execution_count": 155,
   "metadata": {},
   "outputs": [
    {
     "data": {
      "image/png": "[encoded data removed]",
      "text/plain": [
       "<Figure size 720x720 with 25 Axes>"
      ]
     },
     "metadata": {},
     "output_type": "display_data"
    }
   ],
   "source": [
    "import pandas as pd\n",
    "numeric_features = [t[0] for t in df.dtypes if t[1] == 'int' or t[1] == 'double']\n",
    "sampled_data = OccupancyTraining.select(numeric_features).sample(False, 0.8).toPandas()\n",
    "axs = pd.plotting.scatter_matrix(sampled_data, figsize=(10, 10))\n",
    "n = len(sampled_data.columns)\n",
    "for i in range(n):\n",
    "    v = axs[i, 0]\n",
    "    v.yaxis.label.set_rotation(0)\n",
    "    v.yaxis.label.set_ha('right')\n",
    "    v.set_yticks(())\n",
    "    h = axs[n-1, i]\n",
    "    h.xaxis.label.set_rotation(90)\n",
    "    h.set_xticks(())"
   ]
  },
  {
   "cell_type": "code",
   "execution_count": 154,
   "metadata": {},
   "outputs": [
    {
     "name": "stdout",
     "output_type": "stream",
     "text": [
      "Correlation to Occupancy for  CO2 0.7122352340318328\n",
      "Correlation to Occupancy for  Humidity 0.13296424177683092\n",
      "Correlation to Occupancy for  HumidityRatio 0.30028159391338033\n",
      "Correlation to Occupancy for  ID -0.09815523941546457\n",
      "Correlation to Occupancy for  Light 0.9073521217772279\n",
      "Correlation to Occupancy for  Occupancy 1.0\n",
      "Correlation to Occupancy for  Temperature 0.5382196930177295\n"
     ]
    }
   ],
   "source": [
    "##Reference from https://towardsdatascience.com/building-a-linear-regression-with-pyspark-and-mllib-d065c3ba246a\n",
    "import six\n",
    "for i in OccupancyTraining.columns:\n",
    "    if not( isinstance(OccupancyTraining.select(i).take(1)[0][0], six.string_types)):\n",
    "        print( \"Correlation to Occupancy for \", i, OccupancyTraining.stat.corr('Occupancy',i))"
   ]
  },
  {
   "cell_type": "code",
   "execution_count": 158,
   "metadata": {},
   "outputs": [
    {
     "name": "stdout",
     "output_type": "stream",
     "text": [
      "+--------------------+---------+\n",
      "|            Features|Occupancy|\n",
      "+--------------------+---------+\n",
      "|[23.18,27.272,426...|        1|\n",
      "|[23.15,27.2675,42...|        1|\n",
      "|[23.15,27.245,426...|        1|\n",
      "+--------------------+---------+\n",
      "only showing top 3 rows\n",
      "\n"
     ]
    }
   ],
   "source": [
    "from pyspark.ml.feature import VectorAssembler\n",
    "vectorAssembler = VectorAssembler(inputCols = ['Temperature', 'Humidity', 'Light', 'CO2', 'HumidityRatio'], outputCol = 'features')\n",
    "OT = vectorAssembler.transform(OccupancyTraining)\n",
    "OT = OT.select(['Features', 'Occupancy'])\n",
    "OT.show(3)"
   ]
  },
  {
   "cell_type": "code",
   "execution_count": 159,
   "metadata": {},
   "outputs": [
    {
     "name": "stdout",
     "output_type": "stream",
     "text": [
      "+--------------------+---------+\n",
      "|            Features|Occupancy|\n",
      "+--------------------+---------+\n",
      "|[23.7,26.272,585....|      1.0|\n",
      "|[23.718,26.29,578...|      1.0|\n",
      "|[23.73,26.23,572....|      1.0|\n",
      "+--------------------+---------+\n",
      "only showing top 3 rows\n",
      "\n"
     ]
    }
   ],
   "source": [
    "from pyspark.ml.feature import VectorAssembler\n",
    "vectorAssembler = VectorAssembler(inputCols = ['Temperature', 'Humidity', 'Light', 'CO2', 'HumidityRatio'], outputCol = 'features')\n",
    "OT_T1 = vectorAssembler.transform(Occupancy_DF1)\n",
    "OT_T1 = OT_T1.select(['Features', 'Occupancy'])\n",
    "OT_T1.show(3)"
   ]
  },
  {
   "cell_type": "code",
   "execution_count": 160,
   "metadata": {},
   "outputs": [
    {
     "name": "stdout",
     "output_type": "stream",
     "text": [
      "+--------------------+---------+\n",
      "|            Features|Occupancy|\n",
      "+--------------------+---------+\n",
      "|[21.76,31.1333333...|      1.0|\n",
      "|[21.79,31.0,437.3...|      1.0|\n",
      "|[21.7675,31.1225,...|      1.0|\n",
      "+--------------------+---------+\n",
      "only showing top 3 rows\n",
      "\n"
     ]
    }
   ],
   "source": [
    "from pyspark.ml.feature import VectorAssembler\n",
    "vectorAssembler = VectorAssembler(inputCols = ['Temperature', 'Humidity', 'Light', 'CO2', 'HumidityRatio'], outputCol = 'features')\n",
    "OT_T2 = vectorAssembler.transform(Occupancy_DF2)\n",
    "OT_T2 = OT_T2.select(['Features', 'Occupancy'])\n",
    "OT_T2.show(3)"
   ]
  },
  {
   "cell_type": "code",
   "execution_count": 161,
   "metadata": {},
   "outputs": [
    {
     "name": "stdout",
     "output_type": "stream",
     "text": [
      "Coefficients: [0.0,0.0,0.0005860254127035638,0.0,0.0]\n",
      "Intercept: 0.1422882183165206\n"
     ]
    }
   ],
   "source": [
    "from pyspark.ml.regression import LinearRegression\n",
    "lr = LinearRegression(featuresCol = 'Features', labelCol='Occupancy', maxIter=10, regParam=0.3, elasticNetParam=0.8)\n",
    "lr_model = lr.fit(OT)\n",
    "print(\"Coefficients: \" + str(lr_model.coefficients))\n",
    "print(\"Intercept: \" + str(lr_model.intercept))"
   ]
  },
  {
   "cell_type": "code",
   "execution_count": 162,
   "metadata": {},
   "outputs": [
    {
     "name": "stdout",
     "output_type": "stream",
     "text": [
      "RMSE: 0.309151\n",
      "r2: 0.428541\n"
     ]
    }
   ],
   "source": [
    "trainingSummary = lr_model.summary\n",
    "print(\"RMSE: %f\" % trainingSummary.rootMeanSquaredError)\n",
    "print(\"r2: %f\" % trainingSummary.r2)"
   ]
  },
  {
   "cell_type": "code",
   "execution_count": 163,
   "metadata": {},
   "outputs": [
    {
     "name": "stdout",
     "output_type": "stream",
     "text": [
      "+-------+-------------------+\n",
      "|summary|          Occupancy|\n",
      "+-------+-------------------+\n",
      "|  count|               8143|\n",
      "|   mean| 0.2123296082524868|\n",
      "| stddev|0.40898201283831825|\n",
      "|    min|                  0|\n",
      "|    max|                  1|\n",
      "+-------+-------------------+\n",
      "\n"
     ]
    }
   ],
   "source": [
    "OT.describe().show()"
   ]
  },
  {
   "cell_type": "code",
   "execution_count": 164,
   "metadata": {},
   "outputs": [
    {
     "name": "stdout",
     "output_type": "stream",
     "text": [
      "+-------------------+---------+--------------------+\n",
      "|         prediction|Occupancy|            features|\n",
      "+-------------------+---------+--------------------+\n",
      "| 0.4852302898306462|      1.0|[23.7,26.272,585....|\n",
      "|0.48124531702426193|      1.0|[23.718,26.29,578...|\n",
      "| 0.4778856333332324|      1.0|[23.73,26.23,572....|\n",
      "|0.43163826583890524|      1.0|[23.7225,26.125,4...|\n",
      "| 0.4286202349634819|      1.0|[23.754,26.2,488....|\n",
      "|0.47554153168241814|      1.0|[23.76,26.26,568....|\n",
      "| 0.4565929859880611|      1.0|[23.73,26.29,536....|\n",
      "| 0.4405751533826346|      1.0|[23.754,26.29,509...|\n",
      "|  0.421236314763417|      1.0|[23.754,26.35,476...|\n",
      "|0.44116117879533817|      1.0|[23.736,26.39,510...|\n",
      "| 0.4244594545332866|      1.0|[23.745,26.445,48...|\n",
      "| 0.4246352621570977|      1.0|[23.7,26.56,481.8...|\n",
      "|0.42079679570388934|      1.0|[23.7,26.6,475.25...|\n",
      "|  0.417134136874492|      1.0|[23.7,26.7,469.0,...|\n",
      "| 0.4142040098109742|      1.0|[23.7,26.774,464....|\n",
      "| 0.4142040098109742|      1.0|[23.7,26.89,464.0...|\n",
      "|0.40892978109664213|      1.0|[23.7,26.9725,455...|\n",
      "| 0.4083437556839386|      1.0|[23.6,26.89,454.0...|\n",
      "| 0.4106878573347528|      1.0|[23.64,26.976,458...|\n",
      "| 0.4142040098109742|      1.0|[23.65,27.05,464....|\n",
      "+-------------------+---------+--------------------+\n",
      "only showing top 20 rows\n",
      "\n"
     ]
    }
   ],
   "source": [
    "predictions = lr_model.transform(OT_T1)\n",
    "predictions.select(\"prediction\",\"Occupancy\",\"features\").show()"
   ]
  },
  {
   "cell_type": "code",
   "execution_count": 165,
   "metadata": {},
   "outputs": [
    {
     "name": "stdout",
     "output_type": "stream",
     "text": [
      "+-------------------+---------+--------------------+\n",
      "|         prediction|Occupancy|            features|\n",
      "+-------------------+---------+--------------------+\n",
      "| 0.4852302898306462|      1.0|[23.7,26.272,585....|\n",
      "|0.48124531702426193|      1.0|[23.718,26.29,578...|\n",
      "| 0.4778856333332324|      1.0|[23.73,26.23,572....|\n",
      "|0.43163826583890524|      1.0|[23.7225,26.125,4...|\n",
      "| 0.4286202349634819|      1.0|[23.754,26.2,488....|\n",
      "+-------------------+---------+--------------------+\n",
      "only showing top 5 rows\n",
      "\n",
      "R Squared (R2) on test data = 0.42101\n"
     ]
    }
   ],
   "source": [
    "lr_predictions = lr_model.transform(OT_T1)\n",
    "lr_predictions.select(\"prediction\",\"Occupancy\",\"features\").show(5)\n",
    "from pyspark.ml.evaluation import RegressionEvaluator\n",
    "lr_evaluator = RegressionEvaluator(predictionCol=\"prediction\", \\\n",
    "                 labelCol=\"Occupancy\",metricName=\"r2\")\n",
    "print(\"R Squared (R2) on test data = %g\" % lr_evaluator.evaluate(lr_predictions))"
   ]
  },
  {
   "cell_type": "code",
   "execution_count": 166,
   "metadata": {},
   "outputs": [
    {
     "name": "stdout",
     "output_type": "stream",
     "text": [
      "+------------------+---------+--------------------+\n",
      "|        prediction|Occupancy|            features|\n",
      "+------------------+---------+--------------------+\n",
      "|0.3985764701304083|      1.0|[21.76,31.1333333...|\n",
      "|0.3985764701304083|      1.0|[21.79,31.0,437.3...|\n",
      "|0.3966232474298673|      1.0|[21.7675,31.1225,...|\n",
      "|0.3995533744933851|      1.0|[21.7675,31.1225,...|\n",
      "|0.3985764701304083|      1.0|[21.79,31.1333333...|\n",
      "+------------------+---------+--------------------+\n",
      "only showing top 5 rows\n",
      "\n",
      "R Squared (R2) on test data = 0.458002\n"
     ]
    }
   ],
   "source": [
    "lr_predictions = lr_model.transform(OT_T2)\n",
    "lr_predictions.select(\"prediction\",\"Occupancy\",\"features\").show(5)\n",
    "from pyspark.ml.evaluation import RegressionEvaluator\n",
    "lr_evaluator = RegressionEvaluator(predictionCol=\"prediction\", \\\n",
    "                 labelCol=\"Occupancy\",metricName=\"r2\")\n",
    "print(\"R Squared (R2) on test data = %g\" % lr_evaluator.evaluate(lr_predictions))"
   ]
  },
  {
   "cell_type": "code",
   "execution_count": null,
   "metadata": {},
   "outputs": [],
   "source": []
  }
 ],
 "metadata": {
  "kernelspec": {
   "display_name": "Python 3",
   "language": "python",
   "name": "python3"
  },
  "language_info": {
   "codemirror_mode": {
    "name": "ipython",
    "version": 3
   },
   "file_extension": ".py",
   "mimetype": "text/x-python",
   "name": "python",
   "nbconvert_exporter": "python",
   "pygments_lexer": "ipython3",
   "version": "3.6.5"
  }
 },
 "nbformat": 4,
 "nbformat_minor": 2
}
