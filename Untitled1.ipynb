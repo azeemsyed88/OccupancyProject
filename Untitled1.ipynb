{
 "cells": [
  {
   "cell_type": "code",
   "execution_count": 13,
   "metadata": {
    "collapsed": false
   },
   "outputs": [
    {
     "data": {
      "text/plain": [
       "[u'\"date\",\"Temperature\",\"Humidity\",\"Light\",\"CO2\",\"HumidityRatio\",\"Occupancy\"',\n",
       " u'\"140\",\"2015-02-02 14:19:00\",23.7,26.272,585.2,749.2,0.00476416302416414,1',\n",
       " u'\"141\",\"2015-02-02 14:19:59\",23.718,26.29,578.4,760.4,0.00477266099212519,1',\n",
       " u'\"142\",\"2015-02-02 14:21:00\",23.73,26.23,572.666666666667,769.666666666667,0.00476515255246541,1',\n",
       " u'\"143\",\"2015-02-02 14:22:00\",23.7225,26.125,493.75,774.75,0.00474377335599685,1']"
      ]
     },
     "execution_count": 13,
     "metadata": {},
     "output_type": "execute_result"
    }
   ],
   "source": [
    "from pyspark import SparkConf, SparkContext\n",
    "from pyspark.sql.types import *\n",
    "from pyspark.sql import Row\n",
    "from pyspark.sql import HiveContext\n",
    "from pyspark.sql import SQLContext\n",
    "sqlContext = SQLContext(sc)\n",
    "#conf = SparkConf().setMaster(\"local\").setAppName(\"FriendsByAge\")\n",
    "#sc = SparkContext(conf = conf)\n",
    "\n",
    "#def parseLine(line):\n",
    "#   fields = line.split(',')\n",
    "#   date = str(fields[2])\n",
    "#    temperature = float(fields[3])\n",
    "#    #humidity = float(fields[4])\n",
    "#    light = float(fields[5])\n",
    "#    CO2 = float(fields[6])\n",
    "#    humiditiyratio = float(fields[7])\n",
    "#    occupancy = int(fields[8])\n",
    "#    return (date,temperature, humidity, light, CO2, humidityratio, occupancy)\n",
    "\n",
    "rdd = sc.textFile(\"file:///home/cloudera/OccupancyData_1.txt\")\n",
    "rdd.take(5)\n"
   ]
  },
  {
   "cell_type": "code",
   "execution_count": 14,
   "metadata": {
    "collapsed": false
   },
   "outputs": [],
   "source": [
    "rdd=rdd.map(lambda line: line.split(\",\"))"
   ]
  },
  {
   "cell_type": "code",
   "execution_count": 15,
   "metadata": {
    "collapsed": false
   },
   "outputs": [
    {
     "data": {
      "text/plain": [
       "[[u'\"date\"',\n",
       "  u'\"Temperature\"',\n",
       "  u'\"Humidity\"',\n",
       "  u'\"Light\"',\n",
       "  u'\"CO2\"',\n",
       "  u'\"HumidityRatio\"',\n",
       "  u'\"Occupancy\"'],\n",
       " [u'\"140\"',\n",
       "  u'\"2015-02-02 14:19:00\"',\n",
       "  u'23.7',\n",
       "  u'26.272',\n",
       "  u'585.2',\n",
       "  u'749.2',\n",
       "  u'0.00476416302416414',\n",
       "  u'1'],\n",
       " [u'\"141\"',\n",
       "  u'\"2015-02-02 14:19:59\"',\n",
       "  u'23.718',\n",
       "  u'26.29',\n",
       "  u'578.4',\n",
       "  u'760.4',\n",
       "  u'0.00477266099212519',\n",
       "  u'1'],\n",
       " [u'\"142\"',\n",
       "  u'\"2015-02-02 14:21:00\"',\n",
       "  u'23.73',\n",
       "  u'26.23',\n",
       "  u'572.666666666667',\n",
       "  u'769.666666666667',\n",
       "  u'0.00476515255246541',\n",
       "  u'1'],\n",
       " [u'\"143\"',\n",
       "  u'\"2015-02-02 14:22:00\"',\n",
       "  u'23.7225',\n",
       "  u'26.125',\n",
       "  u'493.75',\n",
       "  u'774.75',\n",
       "  u'0.00474377335599685',\n",
       "  u'1']]"
      ]
     },
     "execution_count": 15,
     "metadata": {},
     "output_type": "execute_result"
    }
   ],
   "source": [
    "rdd.take(5)"
   ]
  },
  {
   "cell_type": "code",
   "execution_count": 16,
   "metadata": {
    "collapsed": false
   },
   "outputs": [],
   "source": [
    "header=rdd.first()\n",
    "rdd=rdd.filter(lambda line: line!=header)"
   ]
  },
  {
   "cell_type": "code",
   "execution_count": 17,
   "metadata": {
    "collapsed": false
   },
   "outputs": [],
   "source": [
    "df=rdd.map(lambda line: Row(ID=line[0], Date=line[1],Temperature=line[2], Humidity=line[3], Light=line[4], CO2=line[5], HumidityRatio=line[6], Occupancy=line[7])).toDF()"
   ]
  },
  {
   "cell_type": "code",
   "execution_count": 18,
   "metadata": {
    "collapsed": false,
    "scrolled": true
   },
   "outputs": [
    {
     "name": "stdout",
     "output_type": "stream",
     "text": [
      "+----------------+--------------------+--------+-------------------+-----+----------------+---------+-----------+\n",
      "|             CO2|                Date|Humidity|      HumidityRatio|   ID|           Light|Occupancy|Temperature|\n",
      "+----------------+--------------------+--------+-------------------+-----+----------------+---------+-----------+\n",
      "|           749.2|\"2015-02-02 14:19...|  26.272|0.00476416302416414|\"140\"|           585.2|        1|       23.7|\n",
      "|           760.4|\"2015-02-02 14:19...|   26.29|0.00477266099212519|\"141\"|           578.4|        1|     23.718|\n",
      "|769.666666666667|\"2015-02-02 14:21...|   26.23|0.00476515255246541|\"142\"|572.666666666667|        1|      23.73|\n",
      "|          774.75|\"2015-02-02 14:22...|  26.125|0.00474377335599685|\"143\"|          493.75|        1|    23.7225|\n",
      "|             779|\"2015-02-02 14:23...|    26.2|0.00476659399998615|\"144\"|           488.6|        1|     23.754|\n",
      "|             790|\"2015-02-02 14:23...|   26.26|0.00477933243163454|\"145\"|568.666666666667|        1|      23.76|\n",
      "|             798|\"2015-02-02 14:25...|   26.29|0.00477613633274892|\"146\"|536.333333333333|        1|      23.73|\n",
      "|             797|\"2015-02-02 14:25...|   26.29|0.00478309370839038|\"147\"|             509|        1|     23.754|\n",
      "|           803.2|\"2015-02-02 14:26...|   26.35|0.00479409399662041|\"148\"|             476|        1|     23.754|\n",
      "|             809|\"2015-02-02 14:28...|   26.39|0.00479618871038935|\"149\"|             510|        1|     23.736|\n",
      "|          815.25|\"2015-02-02 14:29...|  26.445|0.00480888622067716|\"150\"|           481.5|        1|     23.745|\n",
      "|             824|\"2015-02-02 14:30...|   26.56| 0.0048167933677358|\"151\"|           481.8|        1|       23.7|\n",
      "|             832|\"2015-02-02 14:31...|    26.6|0.00482410383674874|\"152\"|          475.25|        1|       23.7|\n",
      "|845.333333333333|\"2015-02-02 14:31...|    26.7|0.00484238075533563|\"153\"|             469|        1|       23.7|\n",
      "|           852.4|\"2015-02-02 14:32...|  26.774|0.00485590636128976|\"154\"|             464|        1|       23.7|\n",
      "|             861|\"2015-02-02 14:34...|   26.89|0.00487710983719076|\"155\"|             464|        1|       23.7|\n",
      "|             880|\"2015-02-02 14:35...| 26.9725|  0.004892190768364|\"156\"|             455|        1|       23.7|\n",
      "|             891|\"2015-02-02 14:36...|   26.89|0.00484759441396992|\"157\"|             454|        1|       23.6|\n",
      "|           897.6|\"2015-02-02 14:37...|  26.976| 0.0048750447811301|\"158\"|             458|        1|      23.64|\n",
      "|           900.5|\"2015-02-02 14:38...|   27.05|0.00489149158929623|\"159\"|             464|        1|      23.65|\n",
      "+----------------+--------------------+--------+-------------------+-----+----------------+---------+-----------+\n",
      "only showing top 20 rows\n",
      "\n"
     ]
    }
   ],
   "source": [
    "df.show()"
   ]
  },
  {
   "cell_type": "code",
   "execution_count": null,
   "metadata": {
    "collapsed": true
   },
   "outputs": [],
   "source": []
  }
 ],
 "metadata": {
  "kernelspec": {
   "display_name": "Python 2",
   "language": "python",
   "name": "python2"
  },
  "language_info": {
   "codemirror_mode": {
    "name": "ipython",
    "version": 2
   },
   "file_extension": ".py",
   "mimetype": "text/x-python",
   "name": "python",
   "nbconvert_exporter": "python",
   "pygments_lexer": "ipython2",
   "version": "2.7.13"
  }
 },
 "nbformat": 4,
 "nbformat_minor": 2
}
